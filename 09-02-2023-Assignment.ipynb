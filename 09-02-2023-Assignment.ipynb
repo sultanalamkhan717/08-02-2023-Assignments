{
 "cells": [
  {
   "cell_type": "markdown",
   "id": "2ce1c4ad-3940-4d42-8ef6-71cec27a61bb",
   "metadata": {},
   "source": [
    "#ANSWER 1"
   ]
  },
  {
   "cell_type": "code",
   "execution_count": 3,
   "id": "6aac519e-0367-4159-87ef-d599847cbc8c",
   "metadata": {},
   "outputs": [],
   "source": [
    "class Vehicle:\n",
    "    def __init__(self, name_of_vehicle, max_speed, average_speed):\n",
    "        self.name_of_vehicle = name_of_vehicle\n",
    "        self.max_speed = max_speed\n",
    "        self.average_speed = average_speed\n"
   ]
  },
  {
   "cell_type": "code",
   "execution_count": 4,
   "id": "97e95a0a-a332-4fad-ba75-1bdce3f209ef",
   "metadata": {},
   "outputs": [],
   "source": [
    "my_car = Vehicle(\"Toyota Camry\", 120, 60)\n"
   ]
  },
  {
   "cell_type": "code",
   "execution_count": 5,
   "id": "17f57a8d-3b48-4860-849e-1e776f79a928",
   "metadata": {},
   "outputs": [
    {
     "name": "stdout",
     "output_type": "stream",
     "text": [
      "Toyota Camry\n",
      "120\n",
      "60\n"
     ]
    }
   ],
   "source": [
    "print(my_car.name_of_vehicle)   \n",
    "print(my_car.max_speed)          \n",
    "print(my_car.average_speed)      \n"
   ]
  },
  {
   "cell_type": "markdown",
   "id": "9ad821fb-c7dc-410b-9398-749abff2a2d8",
   "metadata": {},
   "source": [
    "#ANSWER 2"
   ]
  },
  {
   "cell_type": "code",
   "execution_count": 1,
   "id": "448925cf-29df-4734-81b0-81704e92c4db",
   "metadata": {},
   "outputs": [
    {
     "ename": "NameError",
     "evalue": "name 'Vehicle' is not defined",
     "output_type": "error",
     "traceback": [
      "\u001b[0;31m---------------------------------------------------------------------------\u001b[0m",
      "\u001b[0;31mNameError\u001b[0m                                 Traceback (most recent call last)",
      "Cell \u001b[0;32mIn[1], line 1\u001b[0m\n\u001b[0;32m----> 1\u001b[0m \u001b[38;5;28;01mclass\u001b[39;00m \u001b[38;5;21;01mCar\u001b[39;00m(\u001b[43mVehicle\u001b[49m):\n\u001b[1;32m      2\u001b[0m     \u001b[38;5;28;01mdef\u001b[39;00m \u001b[38;5;21m__init__\u001b[39m(\u001b[38;5;28mself\u001b[39m, name_of_vehicle, max_speed, average_of_vehicle):\n\u001b[1;32m      3\u001b[0m         \u001b[38;5;28msuper\u001b[39m()\u001b[38;5;241m.\u001b[39m\u001b[38;5;21m__init__\u001b[39m(name_of_vehicle, max_speed, average_of_vehicle)\n",
      "\u001b[0;31mNameError\u001b[0m: name 'Vehicle' is not defined"
     ]
    }
   ],
   "source": [
    "class Car(Vehicle):\n",
    "    def __init__(self, name_of_vehicle, max_speed, average_of_vehicle):\n",
    "        super().__init__(name_of_vehicle, max_speed, average_of_vehicle)\n",
    "        \n",
    "    def seating_capacity(self, capacity):\n",
    "        return f\"{self.name_of_vehicle} has a seating capacity of {capacity} passengers.\"\n"
   ]
  },
  {
   "cell_type": "code",
   "execution_count": 2,
   "id": "591af11c-76ca-4eab-b138-1e3ef439ec09",
   "metadata": {},
   "outputs": [
    {
     "ename": "NameError",
     "evalue": "name 'Car' is not defined",
     "output_type": "error",
     "traceback": [
      "\u001b[0;31m---------------------------------------------------------------------------\u001b[0m",
      "\u001b[0;31mNameError\u001b[0m                                 Traceback (most recent call last)",
      "Cell \u001b[0;32mIn[2], line 1\u001b[0m\n\u001b[0;32m----> 1\u001b[0m my_car \u001b[38;5;241m=\u001b[39m \u001b[43mCar\u001b[49m(\u001b[38;5;124m\"\u001b[39m\u001b[38;5;124mToyota Camry\u001b[39m\u001b[38;5;124m\"\u001b[39m, \u001b[38;5;241m200\u001b[39m, \u001b[38;5;241m25\u001b[39m)\n\u001b[1;32m      2\u001b[0m \u001b[38;5;28mprint\u001b[39m(my_car\u001b[38;5;241m.\u001b[39mseating_capacity(\u001b[38;5;241m5\u001b[39m))\n",
      "\u001b[0;31mNameError\u001b[0m: name 'Car' is not defined"
     ]
    }
   ],
   "source": [
    "my_car = Car(\"Toyota Camry\", 200, 25)\n",
    "print(my_car.seating_capacity(5))\n"
   ]
  },
  {
   "cell_type": "markdown",
   "id": "392d74bf-6ce9-4cc2-9e83-80c8681df05c",
   "metadata": {},
   "source": [
    "#ANSWER 3"
   ]
  },
  {
   "cell_type": "code",
   "execution_count": 3,
   "id": "15ce8508-f8bf-4bc9-b6fa-cc3b8d871b54",
   "metadata": {},
   "outputs": [
    {
     "ename": "SyntaxError",
     "evalue": "invalid syntax (1833496882.py, line 1)",
     "output_type": "error",
     "traceback": [
      "\u001b[0;36m  Cell \u001b[0;32mIn[3], line 1\u001b[0;36m\u001b[0m\n\u001b[0;31m    Multiple inheritance is a feature in object-oriented programming\u001b[0m\n\u001b[0m             ^\u001b[0m\n\u001b[0;31mSyntaxError\u001b[0m\u001b[0;31m:\u001b[0m invalid syntax\n"
     ]
    }
   ],
   "source": [
    "Multiple inheritance is a feature in object-oriented programming\n",
    "where a class can inherit from multiple parent classes.\n",
    "This allows the child class to inherit attributes and methods from each parent class."
   ]
  },
  {
   "cell_type": "code",
   "execution_count": 4,
   "id": "8627665c-7cf6-4146-9f79-05eab665ea58",
   "metadata": {},
   "outputs": [
    {
     "name": "stdout",
     "output_type": "stream",
     "text": [
      "Eagle is eating.\n",
      "I can fly at a speed of 100 km/h.\n"
     ]
    }
   ],
   "source": [
    "class Animal:\n",
    "    def __init__(self, name):\n",
    "        self.name = name\n",
    "    \n",
    "    def eat(self):\n",
    "        print(f\"{self.name} is eating.\")\n",
    "\n",
    "class Flyer:\n",
    "    def __init__(self, fly_speed):\n",
    "        self.fly_speed = fly_speed\n",
    "    \n",
    "    def fly(self):\n",
    "        print(f\"I can fly at a speed of {self.fly_speed} km/h.\")\n",
    "\n",
    "class Bird(Animal, Flyer):\n",
    "    def __init__(self, name, fly_speed):\n",
    "        Animal.__init__(self, name)\n",
    "        Flyer.__init__(self, fly_speed)\n",
    "\n",
    "bird = Bird(\"Eagle\", 100)\n",
    "bird.eat()\n",
    "bird.fly()\n"
   ]
  },
  {
   "cell_type": "markdown",
   "id": "e549a1ea-b1f9-444a-80f7-116fef8223de",
   "metadata": {},
   "source": [
    "#ANSWER-4"
   ]
  },
  {
   "cell_type": "code",
   "execution_count": null,
   "id": "a8a0c00a-954f-4599-891f-8317dc8bee5f",
   "metadata": {},
   "outputs": [],
   "source": [
    "In Python, a getter method is a method that retrieves the value of a private instance variable,\n",
    "and a setter method is a method that sets the value of a private instance variable.\n",
    "This is a way to ensure that the data encapsulated within an object can only be accessed and modified through methods,\n",
    "which helps to maintain control over the state of the object."
   ]
  },
  {
   "cell_type": "code",
   "execution_count": 7,
   "id": "e5ff81bf-5884-4454-9bd3-75774a2fc8c6",
   "metadata": {},
   "outputs": [
    {
     "name": "stdout",
     "output_type": "stream",
     "text": [
      "John\n",
      "Alice\n",
      "30\n",
      "30\n",
      "40\n"
     ]
    }
   ],
   "source": [
    "class Person:\n",
    "    def __init__(self, name, age):\n",
    "        self.__name = name\n",
    "        self.__age = age\n",
    "    \n",
    "    def get_name(self):\n",
    "        return self.__name\n",
    "    \n",
    "    def set_name(self, name):\n",
    "        self.__name = name\n",
    "    \n",
    "    def get_age(self):\n",
    "        return self.__age\n",
    "    \n",
    "    def set_age(self, age):\n",
    "        if age > 0:\n",
    "            self.__age = age\n",
    "            \n",
    "person = Person(\"John\", 30)\n",
    "print(person.get_name()) \n",
    "person.set_name(\"Alice\")\n",
    "print(person.get_name())  \n",
    "print(person.get_age())  \n",
    "person.set_age(-10)\n",
    "print(person.get_age()) \n",
    "person.set_age(40)\n",
    "print(person.get_age()) "
   ]
  },
  {
   "cell_type": "markdown",
   "id": "8fc234db-42bf-4ba1-b727-3a0ed9a87c34",
   "metadata": {},
   "source": [
    "#ANSWER -5"
   ]
  },
  {
   "cell_type": "code",
   "execution_count": 8,
   "id": "f1de4715-5fda-4b5a-a22b-90eacfc93d22",
   "metadata": {},
   "outputs": [
    {
     "ename": "SyntaxError",
     "evalue": "unterminated string literal (detected at line 4) (3930654601.py, line 4)",
     "output_type": "error",
     "traceback": [
      "\u001b[0;36m  Cell \u001b[0;32mIn[8], line 4\u001b[0;36m\u001b[0m\n\u001b[0;31m    it overrides the superclass's method.\u001b[0m\n\u001b[0m                               ^\u001b[0m\n\u001b[0;31mSyntaxError\u001b[0m\u001b[0;31m:\u001b[0m unterminated string literal (detected at line 4)\n"
     ]
    }
   ],
   "source": [
    "Method overriding is a feature of object-oriented programming \n",
    "where a subclass provides its implementation of a method that is already present in its superclass. \n",
    "When a method in a subclass has the same name and parameters as a method in its superclass,\n",
    "it overrides the superclass's method."
   ]
  },
  {
   "cell_type": "code",
   "execution_count": 9,
   "id": "63de2af2-acb3-4d17-bca1-f0f7ed9404e4",
   "metadata": {},
   "outputs": [
    {
     "name": "stdout",
     "output_type": "stream",
     "text": [
      "The animal speaks\n",
      "The dog barks\n"
     ]
    }
   ],
   "source": [
    "class Animal:\n",
    "    def speak(self):\n",
    "        print(\"The animal speaks\")\n",
    "\n",
    "class Dog(Animal):\n",
    "    def speak(self):\n",
    "        print(\"The dog barks\")\n",
    "\n",
    "animal = Animal()\n",
    "dog = Dog()\n",
    "\n",
    "animal.speak() \n",
    "dog.speak() \n"
   ]
  },
  {
   "cell_type": "code",
   "execution_count": null,
   "id": "a609a315-c4c7-4d21-9b0f-badc4cd302c7",
   "metadata": {},
   "outputs": [],
   "source": []
  }
 ],
 "metadata": {
  "kernelspec": {
   "display_name": "Python 3 (ipykernel)",
   "language": "python",
   "name": "python3"
  },
  "language_info": {
   "codemirror_mode": {
    "name": "ipython",
    "version": 3
   },
   "file_extension": ".py",
   "mimetype": "text/x-python",
   "name": "python",
   "nbconvert_exporter": "python",
   "pygments_lexer": "ipython3",
   "version": "3.10.8"
  }
 },
 "nbformat": 4,
 "nbformat_minor": 5
}
